{
 "cells": [
  {
   "attachments": {
    "image.png": {
     "image/png": "[encoded data removed]"
    }
   },
   "cell_type": "markdown",
   "id": "7c684483",
   "metadata": {},
   "source": [
    "# ![image.png](attachment:image.png) ANZ Predictive Analytics by Renzo https://nextslim.github.io/RenzOnly/ <hr>"
   ]
  },
  {
   "cell_type": "markdown",
   "id": "e8bfefed",
   "metadata": {},
   "source": [
    "Using the same transaction dataset, identify the annual salary for each customer\n",
    "\n",
    "Explore correlations between annual salary and various customer attributes (e.g. age). These attributes could be those that are readily available in the data (e.g. age) or those that you construct or derive yourself (e.g. those relating to purchasing behaviour). Visualise any interesting correlations using a scatter plot.\n",
    "\n",
    "Build a simple regression model to predict the annual salary for each customer using the attributes you identified above\n",
    "\n",
    "How accurate is your model? Should ANZ use it to segment customers (for whom it does not have this data) into income brackets for reporting purposes?\n",
    "\n",
    "For a challenge: build a decision-tree based model to predict salary. Does it perform better? How would you accurately test the performance of this model?"
   ]
  },
  {
   "cell_type": "markdown",
   "id": "7e628cad",
   "metadata": {},
   "source": [
    "### Import Dependencies"
   ]
  },
  {
   "cell_type": "code",
   "execution_count": 55,
   "id": "5946adee",
   "metadata": {},
   "outputs": [],
   "source": [
    "import pandas as pd\n",
    "import numpy as np\n",
    "import os\n",
    "import matplotlib.pyplot as plt\n",
    "import seaborn as sns\n",
    "import warnings\n",
    "\n",
    "%matplotlib inline\n",
    "from sklearn.model_selection import train_test_split\n",
    "from sklearn.linear_model import LinearRegression\n",
    "from sklearn.tree import DecisionTreeRegressor\n",
    "from sklearn.ensemble import GradientBoostingRegressor\n",
    "\n",
    "import pyforest\n",
    "import warnings\n",
    "warnings.filterwarnings(\"ignore\")\n",
    "from sklearn import metrics\n",
    "from sklearn.metrics import accuracy_score\n",
    "\n",
    "import lazypredict\n",
    "from lazypredict.Supervised import LazyClassifier\n",
    "from sklearn import tree\n"
   ]
  },
  {
   "cell_type": "markdown",
   "id": "7848961f",
   "metadata": {},
   "source": [
    "### Loading the Data"
   ]
  },
  {
   "cell_type": "code",
   "execution_count": 21,
   "id": "b75d013c",
   "metadata": {},
   "outputs": [
    {
     "data": {
      "text/html": [
       "<div>\n",
       "<style scoped>\n",
       "    .dataframe tbody tr th:only-of-type {\n",
       "        vertical-align: middle;\n",
       "    }\n",
       "\n",
       "    .dataframe tbody tr th {\n",
       "        vertical-align: top;\n",
       "    }\n",
       "\n",
       "    .dataframe thead th {\n",
       "        text-align: right;\n",
       "    }\n",
       "</style>\n",
       "<table border=\"1\" class=\"dataframe\">\n",
       "  <thead>\n",
       "    <tr style=\"text-align: right;\">\n",
       "      <th></th>\n",
       "      <th>status</th>\n",
       "      <th>card_present_flag</th>\n",
       "      <th>bpay_biller_code</th>\n",
       "      <th>account</th>\n",
       "      <th>currency</th>\n",
       "      <th>long_lat</th>\n",
       "      <th>txn_description</th>\n",
       "      <th>merchant_id</th>\n",
       "      <th>merchant_code</th>\n",
       "      <th>first_name</th>\n",
       "      <th>...</th>\n",
       "      <th>age</th>\n",
       "      <th>merchant_suburb</th>\n",
       "      <th>merchant_state</th>\n",
       "      <th>extraction</th>\n",
       "      <th>amount</th>\n",
       "      <th>transaction_id</th>\n",
       "      <th>country</th>\n",
       "      <th>customer_id</th>\n",
       "      <th>merchant_long_lat</th>\n",
       "      <th>movement</th>\n",
       "    </tr>\n",
       "  </thead>\n",
       "  <tbody>\n",
       "    <tr>\n",
       "      <th>0</th>\n",
       "      <td>authorized</td>\n",
       "      <td>1.00</td>\n",
       "      <td>NaN</td>\n",
       "      <td>ACC-1598451071</td>\n",
       "      <td>AUD</td>\n",
       "      <td>153.41 -27.95</td>\n",
       "      <td>POS</td>\n",
       "      <td>81c48296-73be-44a7-befa-d053f48ce7cd</td>\n",
       "      <td>nan</td>\n",
       "      <td>Diana</td>\n",
       "      <td>...</td>\n",
       "      <td>26</td>\n",
       "      <td>Ashmore</td>\n",
       "      <td>QLD</td>\n",
       "      <td>2018-08-01T01:01:15.000+0000</td>\n",
       "      <td>16.25</td>\n",
       "      <td>a623070bfead4541a6b0fff8a09e706c</td>\n",
       "      <td>Australia</td>\n",
       "      <td>CUS-2487424745</td>\n",
       "      <td>153.38 -27.99</td>\n",
       "      <td>debit</td>\n",
       "    </tr>\n",
       "    <tr>\n",
       "      <th>1</th>\n",
       "      <td>authorized</td>\n",
       "      <td>0.00</td>\n",
       "      <td>NaN</td>\n",
       "      <td>ACC-1598451071</td>\n",
       "      <td>AUD</td>\n",
       "      <td>153.41 -27.95</td>\n",
       "      <td>SALES-POS</td>\n",
       "      <td>830a451c-316e-4a6a-bf25-e37caedca49e</td>\n",
       "      <td>nan</td>\n",
       "      <td>Diana</td>\n",
       "      <td>...</td>\n",
       "      <td>26</td>\n",
       "      <td>Sydney</td>\n",
       "      <td>NSW</td>\n",
       "      <td>2018-08-01T01:13:45.000+0000</td>\n",
       "      <td>14.19</td>\n",
       "      <td>13270a2a902145da9db4c951e04b51b9</td>\n",
       "      <td>Australia</td>\n",
       "      <td>CUS-2487424745</td>\n",
       "      <td>151.21 -33.87</td>\n",
       "      <td>debit</td>\n",
       "    </tr>\n",
       "    <tr>\n",
       "      <th>2</th>\n",
       "      <td>authorized</td>\n",
       "      <td>1.00</td>\n",
       "      <td>NaN</td>\n",
       "      <td>ACC-1222300524</td>\n",
       "      <td>AUD</td>\n",
       "      <td>151.23 -33.94</td>\n",
       "      <td>POS</td>\n",
       "      <td>835c231d-8cdf-4e96-859d-e9d571760cf0</td>\n",
       "      <td>nan</td>\n",
       "      <td>Michael</td>\n",
       "      <td>...</td>\n",
       "      <td>38</td>\n",
       "      <td>Sydney</td>\n",
       "      <td>NSW</td>\n",
       "      <td>2018-08-01T01:26:15.000+0000</td>\n",
       "      <td>6.42</td>\n",
       "      <td>feb79e7ecd7048a5a36ec889d1a94270</td>\n",
       "      <td>Australia</td>\n",
       "      <td>CUS-2142601169</td>\n",
       "      <td>151.21 -33.87</td>\n",
       "      <td>debit</td>\n",
       "    </tr>\n",
       "    <tr>\n",
       "      <th>3</th>\n",
       "      <td>authorized</td>\n",
       "      <td>1.00</td>\n",
       "      <td>NaN</td>\n",
       "      <td>ACC-1037050564</td>\n",
       "      <td>AUD</td>\n",
       "      <td>153.10 -27.66</td>\n",
       "      <td>SALES-POS</td>\n",
       "      <td>48514682-c78a-4a88-b0da-2d6302e64673</td>\n",
       "      <td>nan</td>\n",
       "      <td>Rhonda</td>\n",
       "      <td>...</td>\n",
       "      <td>40</td>\n",
       "      <td>Buderim</td>\n",
       "      <td>QLD</td>\n",
       "      <td>2018-08-01T01:38:45.000+0000</td>\n",
       "      <td>40.90</td>\n",
       "      <td>2698170da3704fd981b15e64a006079e</td>\n",
       "      <td>Australia</td>\n",
       "      <td>CUS-1614226872</td>\n",
       "      <td>153.05 -26.68</td>\n",
       "      <td>debit</td>\n",
       "    </tr>\n",
       "    <tr>\n",
       "      <th>4</th>\n",
       "      <td>authorized</td>\n",
       "      <td>1.00</td>\n",
       "      <td>NaN</td>\n",
       "      <td>ACC-1598451071</td>\n",
       "      <td>AUD</td>\n",
       "      <td>153.41 -27.95</td>\n",
       "      <td>SALES-POS</td>\n",
       "      <td>b4e02c10-0852-4273-b8fd-7b3395e32eb0</td>\n",
       "      <td>nan</td>\n",
       "      <td>Diana</td>\n",
       "      <td>...</td>\n",
       "      <td>26</td>\n",
       "      <td>Mermaid Beach</td>\n",
       "      <td>QLD</td>\n",
       "      <td>2018-08-01T01:51:15.000+0000</td>\n",
       "      <td>3.25</td>\n",
       "      <td>329adf79878c4cf0aeb4188b4691c266</td>\n",
       "      <td>Australia</td>\n",
       "      <td>CUS-2487424745</td>\n",
       "      <td>153.44 -28.06</td>\n",
       "      <td>debit</td>\n",
       "    </tr>\n",
       "  </tbody>\n",
       "</table>\n",
       "<p>5 rows × 23 columns</p>\n",
       "</div>"
      ],
      "text/plain": [
       "       status  card_present_flag bpay_biller_code         account currency  \\\n",
       "0  authorized               1.00              NaN  ACC-1598451071      AUD   \n",
       "1  authorized               0.00              NaN  ACC-1598451071      AUD   \n",
       "2  authorized               1.00              NaN  ACC-1222300524      AUD   \n",
       "3  authorized               1.00              NaN  ACC-1037050564      AUD   \n",
       "4  authorized               1.00              NaN  ACC-1598451071      AUD   \n",
       "\n",
       "        long_lat txn_description                           merchant_id  \\\n",
       "0  153.41 -27.95             POS  81c48296-73be-44a7-befa-d053f48ce7cd   \n",
       "1  153.41 -27.95       SALES-POS  830a451c-316e-4a6a-bf25-e37caedca49e   \n",
       "2  151.23 -33.94             POS  835c231d-8cdf-4e96-859d-e9d571760cf0   \n",
       "3  153.10 -27.66       SALES-POS  48514682-c78a-4a88-b0da-2d6302e64673   \n",
       "4  153.41 -27.95       SALES-POS  b4e02c10-0852-4273-b8fd-7b3395e32eb0   \n",
       "\n",
       "   merchant_code first_name  ...  age merchant_suburb merchant_state  \\\n",
       "0            nan      Diana  ...   26         Ashmore            QLD   \n",
       "1            nan      Diana  ...   26          Sydney            NSW   \n",
       "2            nan    Michael  ...   38          Sydney            NSW   \n",
       "3            nan     Rhonda  ...   40         Buderim            QLD   \n",
       "4            nan      Diana  ...   26   Mermaid Beach            QLD   \n",
       "\n",
       "                     extraction amount                    transaction_id  \\\n",
       "0  2018-08-01T01:01:15.000+0000  16.25  a623070bfead4541a6b0fff8a09e706c   \n",
       "1  2018-08-01T01:13:45.000+0000  14.19  13270a2a902145da9db4c951e04b51b9   \n",
       "2  2018-08-01T01:26:15.000+0000   6.42  feb79e7ecd7048a5a36ec889d1a94270   \n",
       "3  2018-08-01T01:38:45.000+0000  40.90  2698170da3704fd981b15e64a006079e   \n",
       "4  2018-08-01T01:51:15.000+0000   3.25  329adf79878c4cf0aeb4188b4691c266   \n",
       "\n",
       "     country     customer_id merchant_long_lat movement  \n",
       "0  Australia  CUS-2487424745     153.38 -27.99    debit  \n",
       "1  Australia  CUS-2487424745     151.21 -33.87    debit  \n",
       "2  Australia  CUS-2142601169     151.21 -33.87    debit  \n",
       "3  Australia  CUS-1614226872     153.05 -26.68    debit  \n",
       "4  Australia  CUS-2487424745     153.44 -28.06    debit  \n",
       "\n",
       "[5 rows x 23 columns]"
      ]
     },
     "execution_count": 21,
     "metadata": {},
     "output_type": "execute_result"
    }
   ],
   "source": [
    "# Create a reference to the Xlsx and import it into a Pandas DataFrame\n",
    "df = pd.read_excel(\"ANZdataset.xlsx\", engine='openpyxl')\n",
    "df.head()"
   ]
  },
  {
   "cell_type": "markdown",
   "id": "430b111c",
   "metadata": {},
   "source": [
    "### General Analysis of the Data"
   ]
  },
  {
   "cell_type": "code",
   "execution_count": 22,
   "id": "3dc5d04b",
   "metadata": {},
   "outputs": [
    {
     "name": "stdout",
     "output_type": "stream",
     "text": [
      "<class 'pandas.core.frame.DataFrame'>\n",
      "RangeIndex: 12043 entries, 0 to 12042\n",
      "Data columns (total 23 columns):\n",
      " #   Column             Non-Null Count  Dtype         \n",
      "---  ------             --------------  -----         \n",
      " 0   status             12043 non-null  object        \n",
      " 1   card_present_flag  7717 non-null   float64       \n",
      " 2   bpay_biller_code   885 non-null    object        \n",
      " 3   account            12043 non-null  object        \n",
      " 4   currency           12043 non-null  object        \n",
      " 5   long_lat           12043 non-null  object        \n",
      " 6   txn_description    12043 non-null  object        \n",
      " 7   merchant_id        7717 non-null   object        \n",
      " 8   merchant_code      883 non-null    float64       \n",
      " 9   first_name         12043 non-null  object        \n",
      " 10  balance            12043 non-null  float64       \n",
      " 11  date               12043 non-null  datetime64[ns]\n",
      " 12  gender             12043 non-null  object        \n",
      " 13  age                12043 non-null  int64         \n",
      " 14  merchant_suburb    7717 non-null   object        \n",
      " 15  merchant_state     7717 non-null   object        \n",
      " 16  extraction         12043 non-null  object        \n",
      " 17  amount             12043 non-null  float64       \n",
      " 18  transaction_id     12043 non-null  object        \n",
      " 19  country            12043 non-null  object        \n",
      " 20  customer_id        12043 non-null  object        \n",
      " 21  merchant_long_lat  7717 non-null   object        \n",
      " 22  movement           12043 non-null  object        \n",
      "dtypes: datetime64[ns](1), float64(4), int64(1), object(17)\n",
      "memory usage: 2.1+ MB\n"
     ]
    }
   ],
   "source": [
    "# Exploring the data\n",
    "df.info()"
   ]
  },
  {
   "cell_type": "code",
   "execution_count": 23,
   "id": "580e83e0",
   "metadata": {},
   "outputs": [
    {
     "name": "stdout",
     "output_type": "stream",
     "text": [
      "datetime64[ns]\n",
      "<class 'pandas._libs.tslibs.timestamps.Timestamp'>\n"
     ]
    },
    {
     "data": {
      "text/plain": [
       "0   2018-08-01\n",
       "1   2018-08-01\n",
       "2   2018-08-01\n",
       "3   2018-08-01\n",
       "4   2018-08-01\n",
       "Name: date, dtype: datetime64[ns]"
      ]
     },
     "execution_count": 23,
     "metadata": {},
     "output_type": "execute_result"
    }
   ],
   "source": [
    "#Converting the date column to pandas timestamp format\n",
    "df['date'] = pd.to_datetime(df['date'])\n",
    "print(df['date'].dtype)\n",
    "print(type(df['date'][0]))\n",
    "df['date'].head()"
   ]
  },
  {
   "cell_type": "code",
   "execution_count": 24,
   "id": "7e710d33",
   "metadata": {},
   "outputs": [
    {
     "data": {
      "text/html": [
       "<div>\n",
       "<style scoped>\n",
       "    .dataframe tbody tr th:only-of-type {\n",
       "        vertical-align: middle;\n",
       "    }\n",
       "\n",
       "    .dataframe tbody tr th {\n",
       "        vertical-align: top;\n",
       "    }\n",
       "\n",
       "    .dataframe thead th {\n",
       "        text-align: right;\n",
       "    }\n",
       "</style>\n",
       "<table border=\"1\" class=\"dataframe\">\n",
       "  <thead>\n",
       "    <tr style=\"text-align: right;\">\n",
       "      <th></th>\n",
       "      <th>card_present_flag</th>\n",
       "      <th>merchant_code</th>\n",
       "      <th>balance</th>\n",
       "      <th>age</th>\n",
       "      <th>amount</th>\n",
       "    </tr>\n",
       "  </thead>\n",
       "  <tbody>\n",
       "    <tr>\n",
       "      <th>count</th>\n",
       "      <td>7717.00</td>\n",
       "      <td>883.00</td>\n",
       "      <td>12043.00</td>\n",
       "      <td>12043.00</td>\n",
       "      <td>12043.00</td>\n",
       "    </tr>\n",
       "    <tr>\n",
       "      <th>mean</th>\n",
       "      <td>0.80</td>\n",
       "      <td>0.00</td>\n",
       "      <td>14704.20</td>\n",
       "      <td>30.58</td>\n",
       "      <td>187.93</td>\n",
       "    </tr>\n",
       "    <tr>\n",
       "      <th>std</th>\n",
       "      <td>0.40</td>\n",
       "      <td>0.00</td>\n",
       "      <td>31503.72</td>\n",
       "      <td>10.05</td>\n",
       "      <td>592.60</td>\n",
       "    </tr>\n",
       "    <tr>\n",
       "      <th>min</th>\n",
       "      <td>0.00</td>\n",
       "      <td>0.00</td>\n",
       "      <td>0.24</td>\n",
       "      <td>18.00</td>\n",
       "      <td>0.10</td>\n",
       "    </tr>\n",
       "    <tr>\n",
       "      <th>25%</th>\n",
       "      <td>1.00</td>\n",
       "      <td>0.00</td>\n",
       "      <td>3158.59</td>\n",
       "      <td>22.00</td>\n",
       "      <td>16.00</td>\n",
       "    </tr>\n",
       "    <tr>\n",
       "      <th>50%</th>\n",
       "      <td>1.00</td>\n",
       "      <td>0.00</td>\n",
       "      <td>6432.01</td>\n",
       "      <td>28.00</td>\n",
       "      <td>29.00</td>\n",
       "    </tr>\n",
       "    <tr>\n",
       "      <th>75%</th>\n",
       "      <td>1.00</td>\n",
       "      <td>0.00</td>\n",
       "      <td>12465.94</td>\n",
       "      <td>38.00</td>\n",
       "      <td>53.66</td>\n",
       "    </tr>\n",
       "    <tr>\n",
       "      <th>max</th>\n",
       "      <td>1.00</td>\n",
       "      <td>0.00</td>\n",
       "      <td>267128.52</td>\n",
       "      <td>78.00</td>\n",
       "      <td>8835.98</td>\n",
       "    </tr>\n",
       "  </tbody>\n",
       "</table>\n",
       "</div>"
      ],
      "text/plain": [
       "       card_present_flag  merchant_code   balance      age   amount\n",
       "count            7717.00         883.00  12043.00 12043.00 12043.00\n",
       "mean                0.80           0.00  14704.20    30.58   187.93\n",
       "std                 0.40           0.00  31503.72    10.05   592.60\n",
       "min                 0.00           0.00      0.24    18.00     0.10\n",
       "25%                 1.00           0.00   3158.59    22.00    16.00\n",
       "50%                 1.00           0.00   6432.01    28.00    29.00\n",
       "75%                 1.00           0.00  12465.94    38.00    53.66\n",
       "max                 1.00           0.00 267128.52    78.00  8835.98"
      ]
     },
     "execution_count": 24,
     "metadata": {},
     "output_type": "execute_result"
    }
   ],
   "source": [
    "# Generate descriptive statistics\n",
    "df.describe()"
   ]
  },
  {
   "cell_type": "markdown",
   "id": "27a07803",
   "metadata": {},
   "source": [
    " ### General Cleaning <hr>"
   ]
  },
  {
   "cell_type": "code",
   "execution_count": 25,
   "id": "7069f788",
   "metadata": {},
   "outputs": [
    {
     "data": {
      "text/plain": [
       "True"
      ]
     },
     "execution_count": 25,
     "metadata": {},
     "output_type": "execute_result"
    }
   ],
   "source": [
    "#checking if there are any missing values in the entire data set \n",
    "df.isnull().values.any()"
   ]
  },
  {
   "cell_type": "markdown",
   "id": "525d831b",
   "metadata": {},
   "source": [
    "#### Missing Data Heatmap"
   ]
  },
  {
   "cell_type": "code",
   "execution_count": 26,
   "id": "6f80d745",
   "metadata": {},
   "outputs": [
    {
     "data": {
      "text/plain": [
       "<AxesSubplot:title={'center':'Data Heatmap for the Missing data in the data set'}>"
      ]
     },
     "execution_count": 26,
     "metadata": {},
     "output_type": "execute_result"
    },
    {
     "data": {
      "image/png": "[encoded data removed]",
      "text/plain": [
       "<Figure size 432x288 with 2 Axes>"
      ]
     },
     "metadata": {
      "needs_background": "light"
     },
     "output_type": "display_data"
    }
   ],
   "source": [
    "cols = df.columns[:30] # first 30 columns\n",
    "colours = ['#000099', '#ffff00'] # specify the colours - yellow is missing. blue is not missing.\n",
    "plt.title('Data Heatmap for the Missing data in the data set', fontsize=20)\n",
    "sns.heatmap(df[cols].isnull(), cmap=sns.color_palette(colours))"
   ]
  },
  {
   "cell_type": "markdown",
   "id": "3eb090b2",
   "metadata": {},
   "source": [
    "#### Missing Data Percentage List"
   ]
  },
  {
   "cell_type": "code",
   "execution_count": 27,
   "id": "53f1decb",
   "metadata": {},
   "outputs": [
    {
     "name": "stdout",
     "output_type": "stream",
     "text": [
      "status - 0%\n",
      "card_present_flag - 36%\n",
      "bpay_biller_code - 93%\n",
      "account - 0%\n",
      "currency - 0%\n",
      "long_lat - 0%\n",
      "txn_description - 0%\n",
      "merchant_id - 36%\n",
      "merchant_code - 93%\n",
      "first_name - 0%\n",
      "balance - 0%\n",
      "date - 0%\n",
      "gender - 0%\n",
      "age - 0%\n",
      "merchant_suburb - 36%\n",
      "merchant_state - 36%\n",
      "extraction - 0%\n",
      "amount - 0%\n",
      "transaction_id - 0%\n",
      "country - 0%\n",
      "customer_id - 0%\n",
      "merchant_long_lat - 36%\n",
      "movement - 0%\n"
     ]
    }
   ],
   "source": [
    "# if it's a larger dataset and the visualization takes too long can do this.\n",
    "# % of missing.\n",
    "for col in df.columns:\n",
    "    pct_missing = np.mean(df[col].isnull())\n",
    "    print('{} - {}%'.format(col, round(pct_missing*100)))"
   ]
  },
  {
   "cell_type": "markdown",
   "id": "16f10202",
   "metadata": {},
   "source": [
    " #### Removing columns which gives no valuable analysis"
   ]
  },
  {
   "cell_type": "code",
   "execution_count": 28,
   "id": "1e03a09f",
   "metadata": {},
   "outputs": [],
   "source": [
    "#bpay_biller_code and merchant code has 90% NA values. \n",
    "#For better analysis either dropping them or ignoring them is best to do.\n",
    "empty = ['merchant_id', 'bpay_biller_code', 'merchant_code', 'long_lat']\n",
    "df.drop(empty, axis = 1, inplace = True)"
   ]
  },
  {
   "cell_type": "markdown",
   "id": "2aefd897",
   "metadata": {},
   "source": [
    " #### Check outliers by using scatter plot"
   ]
  },
  {
   "cell_type": "code",
   "execution_count": 29,
   "id": "4d619938",
   "metadata": {},
   "outputs": [
    {
     "name": "stdout",
     "output_type": "stream",
     "text": [
      "There are some outliers like values but they are transations above the average. There is not need to remove them\n"
     ]
    },
    {
     "data": {
      "image/png": "[encoded data removed]",
      "text/plain": [
       "<Figure size 432x288 with 1 Axes>"
      ]
     },
     "metadata": {
      "needs_background": "light"
     },
     "output_type": "display_data"
    }
   ],
   "source": [
    "df.plot(kind='scatter', x='date', y='amount')\n",
    "plt.title('Outliers in ANZ Customer transactions database', fontsize=20)\n",
    "print(\"There are some outliers like values but they are transations above the average. There is not need to remove them\")"
   ]
  },
  {
   "cell_type": "markdown",
   "id": "84b72b32",
   "metadata": {},
   "source": [
    "## General Salary Insights<hr>"
   ]
  },
  {
   "cell_type": "code",
   "execution_count": 30,
   "id": "65bd59dd",
   "metadata": {},
   "outputs": [
    {
     "name": "stdout",
     "output_type": "stream",
     "text": [
      "Total Salary: 1676576.85\n",
      "Total Spending: 586707.35\n"
     ]
    },
    {
     "data": {
      "image/png": "[encoded data removed]",
      "text/plain": [
       "<Figure size 864x576 with 1 Axes>"
      ]
     },
     "metadata": {},
     "output_type": "display_data"
    }
   ],
   "source": [
    "# Salary vs Spending\n",
    "\n",
    "total_salary = df.amount[(df.movement == \"credit\")].sum() \n",
    "total_spending = df.amount[(df.movement == \"debit\")].sum()\n",
    "print(\"Total Salary:\",total_salary)\n",
    "print(\"Total Spending:\", total_spending)\n",
    "pie = [total_salary, total_spending]\n",
    "fig, ax = plt.subplots(figsize=(12,8))\n",
    "label = ['Total Salary',\n",
    "        'Total Spending']\n",
    "explode = (0.1, 0)\n",
    "ax.pie(pie, autopct=\"%.1f%%\", labels =  label, explode = explode,startangle=90 )\n",
    "plt.title('% Salary vs Spending', fontsize=20)\n",
    "ax.legend(frameon=True, bbox_to_anchor=(1,0.9))\n",
    "plt.show()"
   ]
  },
  {
   "cell_type": "markdown",
   "id": "e4dcb8d6",
   "metadata": {},
   "source": [
    " ## CREATION OF A NEW DATA FRAME<hr>"
   ]
  },
  {
   "cell_type": "code",
   "execution_count": 31,
   "id": "6f1abb82",
   "metadata": {},
   "outputs": [
    {
     "data": {
      "text/plain": [
       "array(['POS', 'SALES-POS', 'PAYMENT', 'INTER BANK', 'PAY/SALARY',\n",
       "       'PHONE BANK'], dtype=object)"
      ]
     },
     "execution_count": 31,
     "metadata": {},
     "output_type": "execute_result"
    }
   ],
   "source": [
    "df['txn_description'].unique()"
   ]
  },
  {
   "cell_type": "code",
   "execution_count": 32,
   "id": "bb661250",
   "metadata": {},
   "outputs": [
    {
     "data": {
      "text/html": [
       "<div>\n",
       "<style scoped>\n",
       "    .dataframe tbody tr th:only-of-type {\n",
       "        vertical-align: middle;\n",
       "    }\n",
       "\n",
       "    .dataframe tbody tr th {\n",
       "        vertical-align: top;\n",
       "    }\n",
       "\n",
       "    .dataframe thead th {\n",
       "        text-align: right;\n",
       "    }\n",
       "</style>\n",
       "<table border=\"1\" class=\"dataframe\">\n",
       "  <thead>\n",
       "    <tr style=\"text-align: right;\">\n",
       "      <th></th>\n",
       "      <th>card_present_flag</th>\n",
       "      <th>balance</th>\n",
       "      <th>age</th>\n",
       "      <th>amount</th>\n",
       "    </tr>\n",
       "    <tr>\n",
       "      <th>customer_id</th>\n",
       "      <th></th>\n",
       "      <th></th>\n",
       "      <th></th>\n",
       "      <th></th>\n",
       "    </tr>\n",
       "  </thead>\n",
       "  <tbody>\n",
       "    <tr>\n",
       "      <th>CUS-1005756958</th>\n",
       "      <td>nan</td>\n",
       "      <td>4718.67</td>\n",
       "      <td>53</td>\n",
       "      <td>970.47</td>\n",
       "    </tr>\n",
       "    <tr>\n",
       "      <th>CUS-1117979751</th>\n",
       "      <td>nan</td>\n",
       "      <td>11957.20</td>\n",
       "      <td>21</td>\n",
       "      <td>3578.65</td>\n",
       "    </tr>\n",
       "    <tr>\n",
       "      <th>CUS-1140341822</th>\n",
       "      <td>nan</td>\n",
       "      <td>5841.72</td>\n",
       "      <td>28</td>\n",
       "      <td>1916.51</td>\n",
       "    </tr>\n",
       "    <tr>\n",
       "      <th>CUS-1147642491</th>\n",
       "      <td>nan</td>\n",
       "      <td>8813.47</td>\n",
       "      <td>34</td>\n",
       "      <td>1711.39</td>\n",
       "    </tr>\n",
       "    <tr>\n",
       "      <th>CUS-1196156254</th>\n",
       "      <td>nan</td>\n",
       "      <td>23845.72</td>\n",
       "      <td>34</td>\n",
       "      <td>3903.73</td>\n",
       "    </tr>\n",
       "  </tbody>\n",
       "</table>\n",
       "</div>"
      ],
      "text/plain": [
       "                card_present_flag  balance  age  amount\n",
       "customer_id                                            \n",
       "CUS-1005756958                nan  4718.67   53  970.47\n",
       "CUS-1117979751                nan 11957.20   21 3578.65\n",
       "CUS-1140341822                nan  5841.72   28 1916.51\n",
       "CUS-1147642491                nan  8813.47   34 1711.39\n",
       "CUS-1196156254                nan 23845.72   34 3903.73"
      ]
     },
     "execution_count": 32,
     "metadata": {},
     "output_type": "execute_result"
    }
   ],
   "source": [
    "salaries = df[df[\"txn_description\"] == \"PAY/SALARY\"].groupby(\"customer_id\").mean()\n",
    "salaries.head()"
   ]
  },
  {
   "cell_type": "code",
   "execution_count": 66,
   "id": "d5f5af2a",
   "metadata": {},
   "outputs": [
    {
     "data": {
      "image/png": "[encoded data removed]",
      "text/plain": [
       "<Figure size 432x288 with 2 Axes>"
      ]
     },
     "metadata": {
      "needs_background": "light"
     },
     "output_type": "display_data"
    }
   ],
   "source": [
    "fig, ax = plt.subplots(1, 2)\n",
    "\n",
    "sns.scatterplot(x=df.age, y=df.balance, ax = ax[0])\n",
    "sns.scatterplot(x=df.age, y=df.amount, ax= ax[1])\n",
    "\n",
    "fig.show()"
   ]
  },
  {
   "cell_type": "markdown",
   "id": "0ad68c9f",
   "metadata": {},
   "source": [
    " ### Calculation of the Anual Salary"
   ]
  },
  {
   "cell_type": "code",
   "execution_count": 33,
   "id": "7b914b16",
   "metadata": {},
   "outputs": [
    {
     "data": {
      "text/html": [
       "<div>\n",
       "<style scoped>\n",
       "    .dataframe tbody tr th:only-of-type {\n",
       "        vertical-align: middle;\n",
       "    }\n",
       "\n",
       "    .dataframe tbody tr th {\n",
       "        vertical-align: top;\n",
       "    }\n",
       "\n",
       "    .dataframe thead th {\n",
       "        text-align: right;\n",
       "    }\n",
       "</style>\n",
       "<table border=\"1\" class=\"dataframe\">\n",
       "  <thead>\n",
       "    <tr style=\"text-align: right;\">\n",
       "      <th></th>\n",
       "      <th>status</th>\n",
       "      <th>card_present_flag</th>\n",
       "      <th>account</th>\n",
       "      <th>currency</th>\n",
       "      <th>txn_description</th>\n",
       "      <th>first_name</th>\n",
       "      <th>balance</th>\n",
       "      <th>date</th>\n",
       "      <th>gender</th>\n",
       "      <th>age</th>\n",
       "      <th>merchant_suburb</th>\n",
       "      <th>merchant_state</th>\n",
       "      <th>extraction</th>\n",
       "      <th>amount</th>\n",
       "      <th>transaction_id</th>\n",
       "      <th>country</th>\n",
       "      <th>customer_id</th>\n",
       "      <th>merchant_long_lat</th>\n",
       "      <th>movement</th>\n",
       "      <th>annual_salary</th>\n",
       "    </tr>\n",
       "  </thead>\n",
       "  <tbody>\n",
       "    <tr>\n",
       "      <th>0</th>\n",
       "      <td>authorized</td>\n",
       "      <td>1.00</td>\n",
       "      <td>ACC-1598451071</td>\n",
       "      <td>AUD</td>\n",
       "      <td>POS</td>\n",
       "      <td>Diana</td>\n",
       "      <td>35.39</td>\n",
       "      <td>2018-08-01</td>\n",
       "      <td>F</td>\n",
       "      <td>26</td>\n",
       "      <td>Ashmore</td>\n",
       "      <td>QLD</td>\n",
       "      <td>2018-08-01T01:01:15.000+0000</td>\n",
       "      <td>16.25</td>\n",
       "      <td>a623070bfead4541a6b0fff8a09e706c</td>\n",
       "      <td>Australia</td>\n",
       "      <td>CUS-2487424745</td>\n",
       "      <td>153.38 -27.99</td>\n",
       "      <td>debit</td>\n",
       "      <td>1013</td>\n",
       "    </tr>\n",
       "    <tr>\n",
       "      <th>1</th>\n",
       "      <td>authorized</td>\n",
       "      <td>0.00</td>\n",
       "      <td>ACC-1598451071</td>\n",
       "      <td>AUD</td>\n",
       "      <td>SALES-POS</td>\n",
       "      <td>Diana</td>\n",
       "      <td>21.20</td>\n",
       "      <td>2018-08-01</td>\n",
       "      <td>F</td>\n",
       "      <td>26</td>\n",
       "      <td>Sydney</td>\n",
       "      <td>NSW</td>\n",
       "      <td>2018-08-01T01:13:45.000+0000</td>\n",
       "      <td>14.19</td>\n",
       "      <td>13270a2a902145da9db4c951e04b51b9</td>\n",
       "      <td>Australia</td>\n",
       "      <td>CUS-2487424745</td>\n",
       "      <td>151.21 -33.87</td>\n",
       "      <td>debit</td>\n",
       "      <td>1013</td>\n",
       "    </tr>\n",
       "    <tr>\n",
       "      <th>2</th>\n",
       "      <td>authorized</td>\n",
       "      <td>1.00</td>\n",
       "      <td>ACC-1222300524</td>\n",
       "      <td>AUD</td>\n",
       "      <td>POS</td>\n",
       "      <td>Michael</td>\n",
       "      <td>5.71</td>\n",
       "      <td>2018-08-01</td>\n",
       "      <td>M</td>\n",
       "      <td>38</td>\n",
       "      <td>Sydney</td>\n",
       "      <td>NSW</td>\n",
       "      <td>2018-08-01T01:26:15.000+0000</td>\n",
       "      <td>6.42</td>\n",
       "      <td>feb79e7ecd7048a5a36ec889d1a94270</td>\n",
       "      <td>Australia</td>\n",
       "      <td>CUS-2142601169</td>\n",
       "      <td>151.21 -33.87</td>\n",
       "      <td>debit</td>\n",
       "      <td>1002</td>\n",
       "    </tr>\n",
       "    <tr>\n",
       "      <th>3</th>\n",
       "      <td>authorized</td>\n",
       "      <td>1.00</td>\n",
       "      <td>ACC-1037050564</td>\n",
       "      <td>AUD</td>\n",
       "      <td>SALES-POS</td>\n",
       "      <td>Rhonda</td>\n",
       "      <td>2117.22</td>\n",
       "      <td>2018-08-01</td>\n",
       "      <td>F</td>\n",
       "      <td>40</td>\n",
       "      <td>Buderim</td>\n",
       "      <td>QLD</td>\n",
       "      <td>2018-08-01T01:38:45.000+0000</td>\n",
       "      <td>40.90</td>\n",
       "      <td>2698170da3704fd981b15e64a006079e</td>\n",
       "      <td>Australia</td>\n",
       "      <td>CUS-1614226872</td>\n",
       "      <td>153.05 -26.68</td>\n",
       "      <td>debit</td>\n",
       "      <td>892</td>\n",
       "    </tr>\n",
       "    <tr>\n",
       "      <th>4</th>\n",
       "      <td>authorized</td>\n",
       "      <td>1.00</td>\n",
       "      <td>ACC-1598451071</td>\n",
       "      <td>AUD</td>\n",
       "      <td>SALES-POS</td>\n",
       "      <td>Diana</td>\n",
       "      <td>17.95</td>\n",
       "      <td>2018-08-01</td>\n",
       "      <td>F</td>\n",
       "      <td>26</td>\n",
       "      <td>Mermaid Beach</td>\n",
       "      <td>QLD</td>\n",
       "      <td>2018-08-01T01:51:15.000+0000</td>\n",
       "      <td>3.25</td>\n",
       "      <td>329adf79878c4cf0aeb4188b4691c266</td>\n",
       "      <td>Australia</td>\n",
       "      <td>CUS-2487424745</td>\n",
       "      <td>153.44 -28.06</td>\n",
       "      <td>debit</td>\n",
       "      <td>1013</td>\n",
       "    </tr>\n",
       "  </tbody>\n",
       "</table>\n",
       "</div>"
      ],
      "text/plain": [
       "       status  card_present_flag         account currency txn_description  \\\n",
       "0  authorized               1.00  ACC-1598451071      AUD             POS   \n",
       "1  authorized               0.00  ACC-1598451071      AUD       SALES-POS   \n",
       "2  authorized               1.00  ACC-1222300524      AUD             POS   \n",
       "3  authorized               1.00  ACC-1037050564      AUD       SALES-POS   \n",
       "4  authorized               1.00  ACC-1598451071      AUD       SALES-POS   \n",
       "\n",
       "  first_name  balance       date gender  age merchant_suburb merchant_state  \\\n",
       "0      Diana    35.39 2018-08-01      F   26         Ashmore            QLD   \n",
       "1      Diana    21.20 2018-08-01      F   26          Sydney            NSW   \n",
       "2    Michael     5.71 2018-08-01      M   38          Sydney            NSW   \n",
       "3     Rhonda  2117.22 2018-08-01      F   40         Buderim            QLD   \n",
       "4      Diana    17.95 2018-08-01      F   26   Mermaid Beach            QLD   \n",
       "\n",
       "                     extraction  amount                    transaction_id  \\\n",
       "0  2018-08-01T01:01:15.000+0000   16.25  a623070bfead4541a6b0fff8a09e706c   \n",
       "1  2018-08-01T01:13:45.000+0000   14.19  13270a2a902145da9db4c951e04b51b9   \n",
       "2  2018-08-01T01:26:15.000+0000    6.42  feb79e7ecd7048a5a36ec889d1a94270   \n",
       "3  2018-08-01T01:38:45.000+0000   40.90  2698170da3704fd981b15e64a006079e   \n",
       "4  2018-08-01T01:51:15.000+0000    3.25  329adf79878c4cf0aeb4188b4691c266   \n",
       "\n",
       "     country     customer_id merchant_long_lat movement  annual_salary  \n",
       "0  Australia  CUS-2487424745     153.38 -27.99    debit           1013  \n",
       "1  Australia  CUS-2487424745     151.21 -33.87    debit           1013  \n",
       "2  Australia  CUS-2142601169     151.21 -33.87    debit           1002  \n",
       "3  Australia  CUS-1614226872     153.05 -26.68    debit            892  \n",
       "4  Australia  CUS-2487424745     153.44 -28.06    debit           1013  "
      ]
     },
     "execution_count": 33,
     "metadata": {},
     "output_type": "execute_result"
    }
   ],
   "source": [
    "#\n",
    "sal =[]\n",
    "for customer_id in df['customer_id']:\n",
    "    sal.append(int(salaries.loc[customer_id]['amount'].sum()))\n",
    "df['annual_salary'] = sal\n",
    "df.head()"
   ]
  },
  {
   "cell_type": "markdown",
   "id": "ba3e1e37",
   "metadata": {},
   "source": [
    " ### New data frame(Salary)"
   ]
  },
  {
   "cell_type": "code",
   "execution_count": 62,
   "id": "aa10e4c3",
   "metadata": {},
   "outputs": [
    {
     "data": {
      "text/html": [
       "<div>\n",
       "<style scoped>\n",
       "    .dataframe tbody tr th:only-of-type {\n",
       "        vertical-align: middle;\n",
       "    }\n",
       "\n",
       "    .dataframe tbody tr th {\n",
       "        vertical-align: top;\n",
       "    }\n",
       "\n",
       "    .dataframe thead th {\n",
       "        text-align: right;\n",
       "    }\n",
       "</style>\n",
       "<table border=\"1\" class=\"dataframe\">\n",
       "  <thead>\n",
       "    <tr style=\"text-align: right;\">\n",
       "      <th></th>\n",
       "      <th>status</th>\n",
       "      <th>card_present_flag</th>\n",
       "      <th>account</th>\n",
       "      <th>currency</th>\n",
       "      <th>txn_description</th>\n",
       "      <th>first_name</th>\n",
       "      <th>balance</th>\n",
       "      <th>date</th>\n",
       "      <th>gender</th>\n",
       "      <th>age</th>\n",
       "      <th>merchant_suburb</th>\n",
       "      <th>merchant_state</th>\n",
       "      <th>extraction</th>\n",
       "      <th>amount</th>\n",
       "      <th>transaction_id</th>\n",
       "      <th>country</th>\n",
       "      <th>customer_id</th>\n",
       "      <th>merchant_long_lat</th>\n",
       "      <th>movement</th>\n",
       "      <th>annual_salary</th>\n",
       "    </tr>\n",
       "  </thead>\n",
       "  <tbody>\n",
       "    <tr>\n",
       "      <th>50</th>\n",
       "      <td>posted</td>\n",
       "      <td>nan</td>\n",
       "      <td>ACC-588564840</td>\n",
       "      <td>AUD</td>\n",
       "      <td>PAY/SALARY</td>\n",
       "      <td>Isaiah</td>\n",
       "      <td>8342.11</td>\n",
       "      <td>2018-08-01</td>\n",
       "      <td>M</td>\n",
       "      <td>23</td>\n",
       "      <td>NaN</td>\n",
       "      <td>NaN</td>\n",
       "      <td>2018-08-01T11:00:00.000+0000</td>\n",
       "      <td>3903.95</td>\n",
       "      <td>9ca281650e5d482d9e53f85e959baa66</td>\n",
       "      <td>Australia</td>\n",
       "      <td>CUS-1462656821</td>\n",
       "      <td>NaN</td>\n",
       "      <td>credit</td>\n",
       "      <td>3903</td>\n",
       "    </tr>\n",
       "    <tr>\n",
       "      <th>61</th>\n",
       "      <td>posted</td>\n",
       "      <td>nan</td>\n",
       "      <td>ACC-1650504218</td>\n",
       "      <td>AUD</td>\n",
       "      <td>PAY/SALARY</td>\n",
       "      <td>Marissa</td>\n",
       "      <td>2040.58</td>\n",
       "      <td>2018-08-01</td>\n",
       "      <td>F</td>\n",
       "      <td>23</td>\n",
       "      <td>NaN</td>\n",
       "      <td>NaN</td>\n",
       "      <td>2018-08-01T12:00:00.000+0000</td>\n",
       "      <td>1626.48</td>\n",
       "      <td>1822eb0e1bbe4c9e95ebbb0fa2cc4323</td>\n",
       "      <td>Australia</td>\n",
       "      <td>CUS-2500783281</td>\n",
       "      <td>NaN</td>\n",
       "      <td>credit</td>\n",
       "      <td>1626</td>\n",
       "    </tr>\n",
       "    <tr>\n",
       "      <th>64</th>\n",
       "      <td>posted</td>\n",
       "      <td>nan</td>\n",
       "      <td>ACC-3326339947</td>\n",
       "      <td>AUD</td>\n",
       "      <td>PAY/SALARY</td>\n",
       "      <td>Eric</td>\n",
       "      <td>3158.51</td>\n",
       "      <td>2018-08-01</td>\n",
       "      <td>M</td>\n",
       "      <td>22</td>\n",
       "      <td>NaN</td>\n",
       "      <td>NaN</td>\n",
       "      <td>2018-08-01T12:00:00.000+0000</td>\n",
       "      <td>983.36</td>\n",
       "      <td>bd62b1799a454cedbbb56364f7c40cbf</td>\n",
       "      <td>Australia</td>\n",
       "      <td>CUS-326006476</td>\n",
       "      <td>NaN</td>\n",
       "      <td>credit</td>\n",
       "      <td>983</td>\n",
       "    </tr>\n",
       "    <tr>\n",
       "      <th>68</th>\n",
       "      <td>posted</td>\n",
       "      <td>nan</td>\n",
       "      <td>ACC-3541460373</td>\n",
       "      <td>AUD</td>\n",
       "      <td>PAY/SALARY</td>\n",
       "      <td>Jeffrey</td>\n",
       "      <td>2517.66</td>\n",
       "      <td>2018-08-01</td>\n",
       "      <td>M</td>\n",
       "      <td>24</td>\n",
       "      <td>NaN</td>\n",
       "      <td>NaN</td>\n",
       "      <td>2018-08-01T13:00:00.000+0000</td>\n",
       "      <td>1408.08</td>\n",
       "      <td>0d95c7c932bb48e5b44c2637bdd3efe9</td>\n",
       "      <td>Australia</td>\n",
       "      <td>CUS-1433879684</td>\n",
       "      <td>NaN</td>\n",
       "      <td>credit</td>\n",
       "      <td>1408</td>\n",
       "    </tr>\n",
       "    <tr>\n",
       "      <th>70</th>\n",
       "      <td>posted</td>\n",
       "      <td>nan</td>\n",
       "      <td>ACC-2776252858</td>\n",
       "      <td>AUD</td>\n",
       "      <td>PAY/SALARY</td>\n",
       "      <td>Kristin</td>\n",
       "      <td>2271.79</td>\n",
       "      <td>2018-08-01</td>\n",
       "      <td>F</td>\n",
       "      <td>43</td>\n",
       "      <td>NaN</td>\n",
       "      <td>NaN</td>\n",
       "      <td>2018-08-01T13:00:00.000+0000</td>\n",
       "      <td>1068.04</td>\n",
       "      <td>f50ccf1195214d14a0acbfcb5a265193</td>\n",
       "      <td>Australia</td>\n",
       "      <td>CUS-4123612273</td>\n",
       "      <td>NaN</td>\n",
       "      <td>credit</td>\n",
       "      <td>1068</td>\n",
       "    </tr>\n",
       "  </tbody>\n",
       "</table>\n",
       "</div>"
      ],
      "text/plain": [
       "    status  card_present_flag         account currency txn_description  \\\n",
       "50  posted                nan   ACC-588564840      AUD      PAY/SALARY   \n",
       "61  posted                nan  ACC-1650504218      AUD      PAY/SALARY   \n",
       "64  posted                nan  ACC-3326339947      AUD      PAY/SALARY   \n",
       "68  posted                nan  ACC-3541460373      AUD      PAY/SALARY   \n",
       "70  posted                nan  ACC-2776252858      AUD      PAY/SALARY   \n",
       "\n",
       "   first_name  balance       date gender  age merchant_suburb merchant_state  \\\n",
       "50     Isaiah  8342.11 2018-08-01      M   23             NaN            NaN   \n",
       "61    Marissa  2040.58 2018-08-01      F   23             NaN            NaN   \n",
       "64       Eric  3158.51 2018-08-01      M   22             NaN            NaN   \n",
       "68    Jeffrey  2517.66 2018-08-01      M   24             NaN            NaN   \n",
       "70    Kristin  2271.79 2018-08-01      F   43             NaN            NaN   \n",
       "\n",
       "                      extraction  amount                    transaction_id  \\\n",
       "50  2018-08-01T11:00:00.000+0000 3903.95  9ca281650e5d482d9e53f85e959baa66   \n",
       "61  2018-08-01T12:00:00.000+0000 1626.48  1822eb0e1bbe4c9e95ebbb0fa2cc4323   \n",
       "64  2018-08-01T12:00:00.000+0000  983.36  bd62b1799a454cedbbb56364f7c40cbf   \n",
       "68  2018-08-01T13:00:00.000+0000 1408.08  0d95c7c932bb48e5b44c2637bdd3efe9   \n",
       "70  2018-08-01T13:00:00.000+0000 1068.04  f50ccf1195214d14a0acbfcb5a265193   \n",
       "\n",
       "      country     customer_id merchant_long_lat movement  annual_salary  \n",
       "50  Australia  CUS-1462656821               NaN   credit           3903  \n",
       "61  Australia  CUS-2500783281               NaN   credit           1626  \n",
       "64  Australia   CUS-326006476               NaN   credit            983  \n",
       "68  Australia  CUS-1433879684               NaN   credit           1408  \n",
       "70  Australia  CUS-4123612273               NaN   credit           1068  "
      ]
     },
     "execution_count": 62,
     "metadata": {},
     "output_type": "execute_result"
    }
   ],
   "source": [
    "salary = df[df['txn_description'] == 'PAY/SALARY']\n",
    "salary.head()"
   ]
  },
  {
   "cell_type": "markdown",
   "id": "153a741a",
   "metadata": {},
   "source": [
    "### Checking missing or unnecessary values in the New data frame(Salary)"
   ]
  },
  {
   "cell_type": "code",
   "execution_count": 35,
   "id": "d2f8aca3",
   "metadata": {},
   "outputs": [
    {
     "name": "stdout",
     "output_type": "stream",
     "text": [
      "status - 0%\n",
      "card_present_flag - 36%\n",
      "account - 0%\n",
      "currency - 0%\n",
      "txn_description - 0%\n",
      "first_name - 0%\n",
      "balance - 0%\n",
      "date - 0%\n",
      "gender - 0%\n",
      "age - 0%\n",
      "merchant_suburb - 36%\n",
      "merchant_state - 36%\n",
      "extraction - 0%\n",
      "amount - 0%\n",
      "transaction_id - 0%\n",
      "country - 0%\n",
      "customer_id - 0%\n",
      "merchant_long_lat - 36%\n",
      "movement - 0%\n",
      "annual_salary - 0%\n"
     ]
    }
   ],
   "source": [
    "# if it's a larger dataset and the visualization takes too long can do this.\n",
    "# % of missing.\n",
    "for col in salary.columns:\n",
    "    pct_missing = np.mean(df[col].isnull())\n",
    "    print('{} - {}%'.format(col, round(pct_missing*100)))"
   ]
  },
  {
   "cell_type": "code",
   "execution_count": 36,
   "id": "99270157",
   "metadata": {},
   "outputs": [],
   "source": [
    "#  4 columns have missing values hence, we will drop these columns\n",
    "\n",
    "salary.drop(['card_present_flag', \"merchant_suburb\",\"merchant_state\", 'merchant_long_lat'], axis = 1, inplace = True)"
   ]
  },
  {
   "cell_type": "code",
   "execution_count": 37,
   "id": "136feeb3",
   "metadata": {},
   "outputs": [
    {
     "data": {
      "text/html": [
       "<div>\n",
       "<style scoped>\n",
       "    .dataframe tbody tr th:only-of-type {\n",
       "        vertical-align: middle;\n",
       "    }\n",
       "\n",
       "    .dataframe tbody tr th {\n",
       "        vertical-align: top;\n",
       "    }\n",
       "\n",
       "    .dataframe thead th {\n",
       "        text-align: right;\n",
       "    }\n",
       "</style>\n",
       "<table border=\"1\" class=\"dataframe\">\n",
       "  <thead>\n",
       "    <tr style=\"text-align: right;\">\n",
       "      <th></th>\n",
       "      <th>status</th>\n",
       "      <th>account</th>\n",
       "      <th>currency</th>\n",
       "      <th>txn_description</th>\n",
       "      <th>first_name</th>\n",
       "      <th>balance</th>\n",
       "      <th>date</th>\n",
       "      <th>gender</th>\n",
       "      <th>age</th>\n",
       "      <th>extraction</th>\n",
       "      <th>amount</th>\n",
       "      <th>transaction_id</th>\n",
       "      <th>country</th>\n",
       "      <th>customer_id</th>\n",
       "      <th>movement</th>\n",
       "      <th>annual_salary</th>\n",
       "    </tr>\n",
       "  </thead>\n",
       "  <tbody>\n",
       "    <tr>\n",
       "      <th>50</th>\n",
       "      <td>posted</td>\n",
       "      <td>ACC-588564840</td>\n",
       "      <td>AUD</td>\n",
       "      <td>PAY/SALARY</td>\n",
       "      <td>Isaiah</td>\n",
       "      <td>8342.11</td>\n",
       "      <td>2018-08-01</td>\n",
       "      <td>M</td>\n",
       "      <td>23</td>\n",
       "      <td>2018-08-01T11:00:00.000+0000</td>\n",
       "      <td>3903.95</td>\n",
       "      <td>9ca281650e5d482d9e53f85e959baa66</td>\n",
       "      <td>Australia</td>\n",
       "      <td>CUS-1462656821</td>\n",
       "      <td>credit</td>\n",
       "      <td>3903</td>\n",
       "    </tr>\n",
       "    <tr>\n",
       "      <th>61</th>\n",
       "      <td>posted</td>\n",
       "      <td>ACC-1650504218</td>\n",
       "      <td>AUD</td>\n",
       "      <td>PAY/SALARY</td>\n",
       "      <td>Marissa</td>\n",
       "      <td>2040.58</td>\n",
       "      <td>2018-08-01</td>\n",
       "      <td>F</td>\n",
       "      <td>23</td>\n",
       "      <td>2018-08-01T12:00:00.000+0000</td>\n",
       "      <td>1626.48</td>\n",
       "      <td>1822eb0e1bbe4c9e95ebbb0fa2cc4323</td>\n",
       "      <td>Australia</td>\n",
       "      <td>CUS-2500783281</td>\n",
       "      <td>credit</td>\n",
       "      <td>1626</td>\n",
       "    </tr>\n",
       "    <tr>\n",
       "      <th>64</th>\n",
       "      <td>posted</td>\n",
       "      <td>ACC-3326339947</td>\n",
       "      <td>AUD</td>\n",
       "      <td>PAY/SALARY</td>\n",
       "      <td>Eric</td>\n",
       "      <td>3158.51</td>\n",
       "      <td>2018-08-01</td>\n",
       "      <td>M</td>\n",
       "      <td>22</td>\n",
       "      <td>2018-08-01T12:00:00.000+0000</td>\n",
       "      <td>983.36</td>\n",
       "      <td>bd62b1799a454cedbbb56364f7c40cbf</td>\n",
       "      <td>Australia</td>\n",
       "      <td>CUS-326006476</td>\n",
       "      <td>credit</td>\n",
       "      <td>983</td>\n",
       "    </tr>\n",
       "    <tr>\n",
       "      <th>68</th>\n",
       "      <td>posted</td>\n",
       "      <td>ACC-3541460373</td>\n",
       "      <td>AUD</td>\n",
       "      <td>PAY/SALARY</td>\n",
       "      <td>Jeffrey</td>\n",
       "      <td>2517.66</td>\n",
       "      <td>2018-08-01</td>\n",
       "      <td>M</td>\n",
       "      <td>24</td>\n",
       "      <td>2018-08-01T13:00:00.000+0000</td>\n",
       "      <td>1408.08</td>\n",
       "      <td>0d95c7c932bb48e5b44c2637bdd3efe9</td>\n",
       "      <td>Australia</td>\n",
       "      <td>CUS-1433879684</td>\n",
       "      <td>credit</td>\n",
       "      <td>1408</td>\n",
       "    </tr>\n",
       "    <tr>\n",
       "      <th>70</th>\n",
       "      <td>posted</td>\n",
       "      <td>ACC-2776252858</td>\n",
       "      <td>AUD</td>\n",
       "      <td>PAY/SALARY</td>\n",
       "      <td>Kristin</td>\n",
       "      <td>2271.79</td>\n",
       "      <td>2018-08-01</td>\n",
       "      <td>F</td>\n",
       "      <td>43</td>\n",
       "      <td>2018-08-01T13:00:00.000+0000</td>\n",
       "      <td>1068.04</td>\n",
       "      <td>f50ccf1195214d14a0acbfcb5a265193</td>\n",
       "      <td>Australia</td>\n",
       "      <td>CUS-4123612273</td>\n",
       "      <td>credit</td>\n",
       "      <td>1068</td>\n",
       "    </tr>\n",
       "  </tbody>\n",
       "</table>\n",
       "</div>"
      ],
      "text/plain": [
       "    status         account currency txn_description first_name  balance  \\\n",
       "50  posted   ACC-588564840      AUD      PAY/SALARY     Isaiah  8342.11   \n",
       "61  posted  ACC-1650504218      AUD      PAY/SALARY    Marissa  2040.58   \n",
       "64  posted  ACC-3326339947      AUD      PAY/SALARY       Eric  3158.51   \n",
       "68  posted  ACC-3541460373      AUD      PAY/SALARY    Jeffrey  2517.66   \n",
       "70  posted  ACC-2776252858      AUD      PAY/SALARY    Kristin  2271.79   \n",
       "\n",
       "         date gender  age                    extraction  amount  \\\n",
       "50 2018-08-01      M   23  2018-08-01T11:00:00.000+0000 3903.95   \n",
       "61 2018-08-01      F   23  2018-08-01T12:00:00.000+0000 1626.48   \n",
       "64 2018-08-01      M   22  2018-08-01T12:00:00.000+0000  983.36   \n",
       "68 2018-08-01      M   24  2018-08-01T13:00:00.000+0000 1408.08   \n",
       "70 2018-08-01      F   43  2018-08-01T13:00:00.000+0000 1068.04   \n",
       "\n",
       "                      transaction_id    country     customer_id movement  \\\n",
       "50  9ca281650e5d482d9e53f85e959baa66  Australia  CUS-1462656821   credit   \n",
       "61  1822eb0e1bbe4c9e95ebbb0fa2cc4323  Australia  CUS-2500783281   credit   \n",
       "64  bd62b1799a454cedbbb56364f7c40cbf  Australia   CUS-326006476   credit   \n",
       "68  0d95c7c932bb48e5b44c2637bdd3efe9  Australia  CUS-1433879684   credit   \n",
       "70  f50ccf1195214d14a0acbfcb5a265193  Australia  CUS-4123612273   credit   \n",
       "\n",
       "    annual_salary  \n",
       "50           3903  \n",
       "61           1626  \n",
       "64            983  \n",
       "68           1408  \n",
       "70           1068  "
      ]
     },
     "execution_count": 37,
     "metadata": {},
     "output_type": "execute_result"
    }
   ],
   "source": [
    "salary.head()"
   ]
  },
  {
   "cell_type": "code",
   "execution_count": 38,
   "id": "09c7e6f6",
   "metadata": {},
   "outputs": [],
   "source": [
    "#  others columns that are repeditive and he imapct of these values can not be identify on target column hence deleting them.\n",
    "\n",
    "salary.drop(['status','account','currency', 'first_name',\"txn_description\",\"extraction\",\"transaction_id\",\"movement\",\"country\" ], axis = 1, inplace = True)"
   ]
  },
  {
   "cell_type": "code",
   "execution_count": 39,
   "id": "2a8d1061",
   "metadata": {},
   "outputs": [
    {
     "data": {
      "text/html": [
       "<div>\n",
       "<style scoped>\n",
       "    .dataframe tbody tr th:only-of-type {\n",
       "        vertical-align: middle;\n",
       "    }\n",
       "\n",
       "    .dataframe tbody tr th {\n",
       "        vertical-align: top;\n",
       "    }\n",
       "\n",
       "    .dataframe thead th {\n",
       "        text-align: right;\n",
       "    }\n",
       "</style>\n",
       "<table border=\"1\" class=\"dataframe\">\n",
       "  <thead>\n",
       "    <tr style=\"text-align: right;\">\n",
       "      <th></th>\n",
       "      <th>balance</th>\n",
       "      <th>date</th>\n",
       "      <th>gender</th>\n",
       "      <th>age</th>\n",
       "      <th>amount</th>\n",
       "      <th>customer_id</th>\n",
       "      <th>annual_salary</th>\n",
       "    </tr>\n",
       "  </thead>\n",
       "  <tbody>\n",
       "    <tr>\n",
       "      <th>50</th>\n",
       "      <td>8342.11</td>\n",
       "      <td>2018-08-01</td>\n",
       "      <td>M</td>\n",
       "      <td>23</td>\n",
       "      <td>3903.95</td>\n",
       "      <td>CUS-1462656821</td>\n",
       "      <td>3903</td>\n",
       "    </tr>\n",
       "    <tr>\n",
       "      <th>61</th>\n",
       "      <td>2040.58</td>\n",
       "      <td>2018-08-01</td>\n",
       "      <td>F</td>\n",
       "      <td>23</td>\n",
       "      <td>1626.48</td>\n",
       "      <td>CUS-2500783281</td>\n",
       "      <td>1626</td>\n",
       "    </tr>\n",
       "    <tr>\n",
       "      <th>64</th>\n",
       "      <td>3158.51</td>\n",
       "      <td>2018-08-01</td>\n",
       "      <td>M</td>\n",
       "      <td>22</td>\n",
       "      <td>983.36</td>\n",
       "      <td>CUS-326006476</td>\n",
       "      <td>983</td>\n",
       "    </tr>\n",
       "    <tr>\n",
       "      <th>68</th>\n",
       "      <td>2517.66</td>\n",
       "      <td>2018-08-01</td>\n",
       "      <td>M</td>\n",
       "      <td>24</td>\n",
       "      <td>1408.08</td>\n",
       "      <td>CUS-1433879684</td>\n",
       "      <td>1408</td>\n",
       "    </tr>\n",
       "    <tr>\n",
       "      <th>70</th>\n",
       "      <td>2271.79</td>\n",
       "      <td>2018-08-01</td>\n",
       "      <td>F</td>\n",
       "      <td>43</td>\n",
       "      <td>1068.04</td>\n",
       "      <td>CUS-4123612273</td>\n",
       "      <td>1068</td>\n",
       "    </tr>\n",
       "  </tbody>\n",
       "</table>\n",
       "</div>"
      ],
      "text/plain": [
       "    balance       date gender  age  amount     customer_id  annual_salary\n",
       "50  8342.11 2018-08-01      M   23 3903.95  CUS-1462656821           3903\n",
       "61  2040.58 2018-08-01      F   23 1626.48  CUS-2500783281           1626\n",
       "64  3158.51 2018-08-01      M   22  983.36   CUS-326006476            983\n",
       "68  2517.66 2018-08-01      M   24 1408.08  CUS-1433879684           1408\n",
       "70  2271.79 2018-08-01      F   43 1068.04  CUS-4123612273           1068"
      ]
     },
     "execution_count": 39,
     "metadata": {},
     "output_type": "execute_result"
    }
   ],
   "source": [
    "salary.head()"
   ]
  },
  {
   "cell_type": "markdown",
   "id": "a95c2358",
   "metadata": {},
   "source": [
    " ### Confirming the of Costumers "
   ]
  },
  {
   "cell_type": "code",
   "execution_count": 40,
   "id": "2c5f0e4d",
   "metadata": {},
   "outputs": [
    {
     "data": {
      "text/plain": [
       "100"
      ]
     },
     "execution_count": 40,
     "metadata": {},
     "output_type": "execute_result"
    }
   ],
   "source": [
    "# Unique Costumers\n",
    "salary.customer_id.nunique()"
   ]
  },
  {
   "cell_type": "code",
   "execution_count": 41,
   "id": "346872b7",
   "metadata": {},
   "outputs": [],
   "source": [
    " ### Gender as # Value"
   ]
  },
  {
   "cell_type": "code",
   "execution_count": 42,
   "id": "0168f13e",
   "metadata": {},
   "outputs": [],
   "source": [
    "salary['gender'] = pd.get_dummies(salary['gender'], drop_first=True)"
   ]
  },
  {
   "cell_type": "markdown",
   "id": "1d7a8cbf",
   "metadata": {},
   "source": [
    "## CORRELATION HEATMAP<hr>"
   ]
  },
  {
   "cell_type": "code",
   "execution_count": 91,
   "id": "cf858336",
   "metadata": {
    "scrolled": true
   },
   "outputs": [
    {
     "data": {
      "text/plain": [
       "<AxesSubplot:>"
      ]
     },
     "execution_count": 91,
     "metadata": {},
     "output_type": "execute_result"
    },
    {
     "data": {
      "image/png": "[encoded data removed]",
      "text/plain": [
       "<Figure size 432x288 with 2 Axes>"
      ]
     },
     "metadata": {
      "needs_background": "light"
     },
     "output_type": "display_data"
    }
   ],
   "source": [
    "# Plotting the correlation heatmap \n",
    "sns.heatmap(salary.corr() ,vmax=.3 ,annot=True, center=0, cmap=\"nipy_spectral\", square=True, linewidths=.5)"
   ]
  },
  {
   "cell_type": "markdown",
   "id": "3be6124b",
   "metadata": {},
   "source": [
    "## Anual Salary with Multi Linear Regression\n",
    "*************\n"
   ]
  },
  {
   "cell_type": "code",
   "execution_count": 44,
   "id": "9508a56d",
   "metadata": {},
   "outputs": [
    {
     "data": {
      "text/html": [
       "<div>\n",
       "<style scoped>\n",
       "    .dataframe tbody tr th:only-of-type {\n",
       "        vertical-align: middle;\n",
       "    }\n",
       "\n",
       "    .dataframe tbody tr th {\n",
       "        vertical-align: top;\n",
       "    }\n",
       "\n",
       "    .dataframe thead th {\n",
       "        text-align: right;\n",
       "    }\n",
       "</style>\n",
       "<table border=\"1\" class=\"dataframe\">\n",
       "  <thead>\n",
       "    <tr style=\"text-align: right;\">\n",
       "      <th></th>\n",
       "      <th>balance</th>\n",
       "      <th>date</th>\n",
       "      <th>gender</th>\n",
       "      <th>age</th>\n",
       "      <th>amount</th>\n",
       "      <th>customer_id</th>\n",
       "      <th>annual_salary</th>\n",
       "    </tr>\n",
       "  </thead>\n",
       "  <tbody>\n",
       "    <tr>\n",
       "      <th>50</th>\n",
       "      <td>8342.11</td>\n",
       "      <td>2018-08-01</td>\n",
       "      <td>1</td>\n",
       "      <td>23</td>\n",
       "      <td>3903.95</td>\n",
       "      <td>CUS-1462656821</td>\n",
       "      <td>3903</td>\n",
       "    </tr>\n",
       "    <tr>\n",
       "      <th>61</th>\n",
       "      <td>2040.58</td>\n",
       "      <td>2018-08-01</td>\n",
       "      <td>0</td>\n",
       "      <td>23</td>\n",
       "      <td>1626.48</td>\n",
       "      <td>CUS-2500783281</td>\n",
       "      <td>1626</td>\n",
       "    </tr>\n",
       "    <tr>\n",
       "      <th>64</th>\n",
       "      <td>3158.51</td>\n",
       "      <td>2018-08-01</td>\n",
       "      <td>1</td>\n",
       "      <td>22</td>\n",
       "      <td>983.36</td>\n",
       "      <td>CUS-326006476</td>\n",
       "      <td>983</td>\n",
       "    </tr>\n",
       "    <tr>\n",
       "      <th>68</th>\n",
       "      <td>2517.66</td>\n",
       "      <td>2018-08-01</td>\n",
       "      <td>1</td>\n",
       "      <td>24</td>\n",
       "      <td>1408.08</td>\n",
       "      <td>CUS-1433879684</td>\n",
       "      <td>1408</td>\n",
       "    </tr>\n",
       "    <tr>\n",
       "      <th>70</th>\n",
       "      <td>2271.79</td>\n",
       "      <td>2018-08-01</td>\n",
       "      <td>0</td>\n",
       "      <td>43</td>\n",
       "      <td>1068.04</td>\n",
       "      <td>CUS-4123612273</td>\n",
       "      <td>1068</td>\n",
       "    </tr>\n",
       "  </tbody>\n",
       "</table>\n",
       "</div>"
      ],
      "text/plain": [
       "    balance       date  gender  age  amount     customer_id  annual_salary\n",
       "50  8342.11 2018-08-01       1   23 3903.95  CUS-1462656821           3903\n",
       "61  2040.58 2018-08-01       0   23 1626.48  CUS-2500783281           1626\n",
       "64  3158.51 2018-08-01       1   22  983.36   CUS-326006476            983\n",
       "68  2517.66 2018-08-01       1   24 1408.08  CUS-1433879684           1408\n",
       "70  2271.79 2018-08-01       0   43 1068.04  CUS-4123612273           1068"
      ]
     },
     "execution_count": 44,
     "metadata": {},
     "output_type": "execute_result"
    }
   ],
   "source": [
    "salary.head()"
   ]
  },
  {
   "cell_type": "code",
   "execution_count": 57,
   "id": "08e2c7eb",
   "metadata": {},
   "outputs": [
    {
     "name": "stdout",
     "output_type": "stream",
     "text": [
      "(883, 4) (883, 1)\n"
     ]
    }
   ],
   "source": [
    "# Assign the data to X and y\n",
    "\n",
    "# X = salary[[ \"balance\",\"amount\",\"age\"]]\n",
    "X = salary.drop([\"date\",'annual_salary',\"customer_id\"],axis=1)\n",
    "y = salary[\"annual_salary\"].values.reshape(-1, 1)\n",
    "print(X.shape, y.shape)"
   ]
  },
  {
   "cell_type": "code",
   "execution_count": 46,
   "id": "c5f22688",
   "metadata": {},
   "outputs": [],
   "source": [
    "# Use train_test_split to create training and testing data\n",
    "\n",
    "from sklearn.model_selection import train_test_split\n",
    "\n",
    "X_train, X_test, y_train, y_test = train_test_split(X, y, random_state=42)\n",
    "\n"
   ]
  },
  {
   "cell_type": "code",
   "execution_count": 47,
   "id": "5003a7ee",
   "metadata": {},
   "outputs": [],
   "source": [
    "# Create the model using LinearRegression\n",
    "\n",
    "from sklearn.linear_model import LinearRegression\n",
    "model = LinearRegression()\n"
   ]
  },
  {
   "cell_type": "code",
   "execution_count": 48,
   "id": "b5282bb4",
   "metadata": {},
   "outputs": [
    {
     "name": "stdout",
     "output_type": "stream",
     "text": [
      "Training Score: 0.9999999420800842\n",
      "Testing Score: 0.9999999525471684\n"
     ]
    }
   ],
   "source": [
    "# Fit the model to the training data and calculate the scores for the training and testing data\n",
    "\n",
    "model.fit(X_train, y_train)\n",
    "training_score = model.score(X_train, y_train)\n",
    "testing_score = model.score(X_test, y_test)\n",
    "\n",
    "\n",
    "print(f\"Training Score: {training_score}\")\n",
    "print(f\"Testing Score: {testing_score}\")"
   ]
  },
  {
   "cell_type": "code",
   "execution_count": 73,
   "id": "7f1a24ad",
   "metadata": {},
   "outputs": [
    {
     "name": "stdout",
     "output_type": "stream",
     "text": [
      "Salary coefficients:  [[-6.57390380e-07 -5.93878747e-02  6.04764485e-03  9.99984354e-01]]\n",
      "y-axis intercept:  [-0.60707937]\n"
     ]
    }
   ],
   "source": [
    "print('Salary coefficients: ', model.coef_)\n",
    "print('y-axis intercept: ', model.intercept_) "
   ]
  },
  {
   "cell_type": "code",
   "execution_count": 49,
   "id": "4a9568e9",
   "metadata": {
    "scrolled": true
   },
   "outputs": [
    {
     "data": {
      "text/plain": [
       "Text(0.5, 1.0, 'Residual Plot')"
      ]
     },
     "execution_count": 49,
     "metadata": {},
     "output_type": "execute_result"
    },
    {
     "data": {
      "image/png": "[encoded data removed]",
      "text/plain": [
       "<Figure size 432x288 with 1 Axes>"
      ]
     },
     "metadata": {
      "needs_background": "light"
     },
     "output_type": "display_data"
    }
   ],
   "source": [
    "# Plot the Residuals for the Training and Testing data\n",
    "\n",
    "plt.scatter(model.predict(X_train), model.predict(X_train) - y_train, c=\"blue\", label=\"Training Data\")\n",
    "plt.scatter(model.predict(X_test), model.predict(X_test) - y_test, c=\"orange\", label=\"Testing Data\")\n",
    "plt.legend()\n",
    "plt.hlines(y=0, xmin=y.min(), xmax=y.max())\n",
    "plt.title(\"Residual Plot\")\n"
   ]
  },
  {
   "cell_type": "code",
   "execution_count": 50,
   "id": "5c380c23",
   "metadata": {},
   "outputs": [
    {
     "data": {
      "text/plain": [
       "0.9999999525471684"
      ]
     },
     "execution_count": 50,
     "metadata": {},
     "output_type": "execute_result"
    }
   ],
   "source": [
    "# Call the `score` method on the model to show the r2 score\n",
    "\n",
    "model.score(X_test, y_test)\n"
   ]
  },
  {
   "cell_type": "markdown",
   "id": "ddd6233c",
   "metadata": {},
   "source": [
    " ### Correlations"
   ]
  },
  {
   "cell_type": "code",
   "execution_count": 78,
   "id": "9c55d8f7",
   "metadata": {},
   "outputs": [
    {
     "data": {
      "image/png": "[encoded data removed]",
      "text/plain": [
       "<Figure size 720x720 with 1 Axes>"
      ]
     },
     "metadata": {
      "needs_background": "light"
     },
     "output_type": "display_data"
    }
   ],
   "source": [
    "plt.figure(figsize=(10, 10))\n",
    "sns.regplot(\"balance\", \"annual_salary\", fit_reg=True, data=salary, color=\"b\")\n",
    "plt.title(\"Regression plot of Annual Salary against Balance\", fontsize=15)\n",
    "plt.xlabel(\"Age\", fontsize=15)\n",
    "plt.ylabel(\"Annual Salary\", fontsize=15)\n",
    "plt.show()"
   ]
  },
  {
   "cell_type": "code",
   "execution_count": 81,
   "id": "ec9a3f45",
   "metadata": {},
   "outputs": [
    {
     "data": {
      "image/png": "[encoded data removed]",
      "text/plain": [
       "<Figure size 720x720 with 1 Axes>"
      ]
     },
     "metadata": {
      "needs_background": "light"
     },
     "output_type": "display_data"
    }
   ],
   "source": [
    "plt.figure(figsize=(10, 10))\n",
    "sns.regplot(\"age\", \"annual_salary\", fit_reg=True, data=salary, color=\"g\")\n",
    "plt.title(\"Regression plot of Annual Salary against Age\", fontsize=15)\n",
    "plt.xlabel(\"Age\", fontsize=15)\n",
    "plt.ylabel(\"Annual Salary\", fontsize=15)\n",
    "plt.show()"
   ]
  },
  {
   "cell_type": "code",
   "execution_count": 87,
   "id": "0570c8f4",
   "metadata": {},
   "outputs": [
    {
     "data": {
      "image/png": "[encoded data removed]",
      "text/plain": [
       "<Figure size 720x720 with 1 Axes>"
      ]
     },
     "metadata": {
      "needs_background": "light"
     },
     "output_type": "display_data"
    }
   ],
   "source": [
    "plt.figure(figsize=(10, 10))\n",
    "sns.regplot(\"amount\", \"annual_salary\", fit_reg=True, data=salary, color=\"y\")\n",
    "plt.title(\"Regression plot of Annual Salary against Amount\", fontsize=15)\n",
    "plt.xlabel(\"Age\", fontsize=15)\n",
    "plt.ylabel(\"Annual Salary\", fontsize=15)\n",
    "plt.show()"
   ]
  },
  {
   "cell_type": "markdown",
   "id": "f1eea611",
   "metadata": {},
   "source": [
    "## Testing using different ML Models"
   ]
  },
  {
   "cell_type": "code",
   "execution_count": 51,
   "id": "c86ac11d",
   "metadata": {},
   "outputs": [
    {
     "name": "stderr",
     "output_type": "stream",
     "text": [
      "100%|██████████| 29/29 [00:18<00:00,  1.56it/s]\n"
     ]
    },
    {
     "data": {
      "text/html": [
       "<div>\n",
       "<style scoped>\n",
       "    .dataframe tbody tr th:only-of-type {\n",
       "        vertical-align: middle;\n",
       "    }\n",
       "\n",
       "    .dataframe tbody tr th {\n",
       "        vertical-align: top;\n",
       "    }\n",
       "\n",
       "    .dataframe thead th {\n",
       "        text-align: right;\n",
       "    }\n",
       "</style>\n",
       "<table border=\"1\" class=\"dataframe\">\n",
       "  <thead>\n",
       "    <tr style=\"text-align: right;\">\n",
       "      <th></th>\n",
       "      <th>Accuracy</th>\n",
       "      <th>Balanced Accuracy</th>\n",
       "      <th>ROC AUC</th>\n",
       "      <th>F1 Score</th>\n",
       "      <th>Time Taken</th>\n",
       "    </tr>\n",
       "    <tr>\n",
       "      <th>Model</th>\n",
       "      <th></th>\n",
       "      <th></th>\n",
       "      <th></th>\n",
       "      <th></th>\n",
       "      <th></th>\n",
       "    </tr>\n",
       "  </thead>\n",
       "  <tbody>\n",
       "    <tr>\n",
       "      <th>LinearDiscriminantAnalysis</th>\n",
       "      <td>1.00</td>\n",
       "      <td>1.00</td>\n",
       "      <td>None</td>\n",
       "      <td>1.00</td>\n",
       "      <td>0.01</td>\n",
       "    </tr>\n",
       "    <tr>\n",
       "      <th>ExtraTreesClassifier</th>\n",
       "      <td>1.00</td>\n",
       "      <td>1.00</td>\n",
       "      <td>None</td>\n",
       "      <td>1.00</td>\n",
       "      <td>0.13</td>\n",
       "    </tr>\n",
       "    <tr>\n",
       "      <th>RandomForestClassifier</th>\n",
       "      <td>1.00</td>\n",
       "      <td>1.00</td>\n",
       "      <td>None</td>\n",
       "      <td>1.00</td>\n",
       "      <td>0.19</td>\n",
       "    </tr>\n",
       "    <tr>\n",
       "      <th>BaggingClassifier</th>\n",
       "      <td>1.00</td>\n",
       "      <td>1.00</td>\n",
       "      <td>None</td>\n",
       "      <td>1.00</td>\n",
       "      <td>0.04</td>\n",
       "    </tr>\n",
       "    <tr>\n",
       "      <th>LGBMClassifier</th>\n",
       "      <td>1.00</td>\n",
       "      <td>1.00</td>\n",
       "      <td>None</td>\n",
       "      <td>1.00</td>\n",
       "      <td>14.03</td>\n",
       "    </tr>\n",
       "    <tr>\n",
       "      <th>DecisionTreeClassifier</th>\n",
       "      <td>1.00</td>\n",
       "      <td>1.00</td>\n",
       "      <td>None</td>\n",
       "      <td>1.00</td>\n",
       "      <td>0.01</td>\n",
       "    </tr>\n",
       "    <tr>\n",
       "      <th>GaussianNB</th>\n",
       "      <td>1.00</td>\n",
       "      <td>0.99</td>\n",
       "      <td>None</td>\n",
       "      <td>1.00</td>\n",
       "      <td>0.02</td>\n",
       "    </tr>\n",
       "    <tr>\n",
       "      <th>XGBClassifier</th>\n",
       "      <td>0.96</td>\n",
       "      <td>0.96</td>\n",
       "      <td>None</td>\n",
       "      <td>0.96</td>\n",
       "      <td>1.97</td>\n",
       "    </tr>\n",
       "    <tr>\n",
       "      <th>NearestCentroid</th>\n",
       "      <td>0.95</td>\n",
       "      <td>0.96</td>\n",
       "      <td>None</td>\n",
       "      <td>0.94</td>\n",
       "      <td>0.01</td>\n",
       "    </tr>\n",
       "    <tr>\n",
       "      <th>LabelPropagation</th>\n",
       "      <td>0.91</td>\n",
       "      <td>0.95</td>\n",
       "      <td>None</td>\n",
       "      <td>0.91</td>\n",
       "      <td>0.02</td>\n",
       "    </tr>\n",
       "    <tr>\n",
       "      <th>LabelSpreading</th>\n",
       "      <td>0.90</td>\n",
       "      <td>0.95</td>\n",
       "      <td>None</td>\n",
       "      <td>0.89</td>\n",
       "      <td>0.05</td>\n",
       "    </tr>\n",
       "    <tr>\n",
       "      <th>KNeighborsClassifier</th>\n",
       "      <td>0.94</td>\n",
       "      <td>0.94</td>\n",
       "      <td>None</td>\n",
       "      <td>0.94</td>\n",
       "      <td>0.01</td>\n",
       "    </tr>\n",
       "    <tr>\n",
       "      <th>ExtraTreeClassifier</th>\n",
       "      <td>0.92</td>\n",
       "      <td>0.93</td>\n",
       "      <td>None</td>\n",
       "      <td>0.92</td>\n",
       "      <td>0.01</td>\n",
       "    </tr>\n",
       "    <tr>\n",
       "      <th>SVC</th>\n",
       "      <td>0.33</td>\n",
       "      <td>0.42</td>\n",
       "      <td>None</td>\n",
       "      <td>0.25</td>\n",
       "      <td>0.06</td>\n",
       "    </tr>\n",
       "    <tr>\n",
       "      <th>LogisticRegression</th>\n",
       "      <td>0.33</td>\n",
       "      <td>0.41</td>\n",
       "      <td>None</td>\n",
       "      <td>0.25</td>\n",
       "      <td>0.11</td>\n",
       "    </tr>\n",
       "    <tr>\n",
       "      <th>LinearSVC</th>\n",
       "      <td>0.27</td>\n",
       "      <td>0.34</td>\n",
       "      <td>None</td>\n",
       "      <td>0.18</td>\n",
       "      <td>0.21</td>\n",
       "    </tr>\n",
       "    <tr>\n",
       "      <th>AdaBoostClassifier</th>\n",
       "      <td>0.20</td>\n",
       "      <td>0.24</td>\n",
       "      <td>None</td>\n",
       "      <td>0.13</td>\n",
       "      <td>0.14</td>\n",
       "    </tr>\n",
       "    <tr>\n",
       "      <th>SGDClassifier</th>\n",
       "      <td>0.17</td>\n",
       "      <td>0.20</td>\n",
       "      <td>None</td>\n",
       "      <td>0.13</td>\n",
       "      <td>0.07</td>\n",
       "    </tr>\n",
       "    <tr>\n",
       "      <th>CalibratedClassifierCV</th>\n",
       "      <td>0.15</td>\n",
       "      <td>0.19</td>\n",
       "      <td>None</td>\n",
       "      <td>0.08</td>\n",
       "      <td>1.30</td>\n",
       "    </tr>\n",
       "    <tr>\n",
       "      <th>BernoulliNB</th>\n",
       "      <td>0.10</td>\n",
       "      <td>0.15</td>\n",
       "      <td>None</td>\n",
       "      <td>0.04</td>\n",
       "      <td>0.01</td>\n",
       "    </tr>\n",
       "    <tr>\n",
       "      <th>Perceptron</th>\n",
       "      <td>0.12</td>\n",
       "      <td>0.13</td>\n",
       "      <td>None</td>\n",
       "      <td>0.07</td>\n",
       "      <td>0.04</td>\n",
       "    </tr>\n",
       "    <tr>\n",
       "      <th>RidgeClassifier</th>\n",
       "      <td>0.08</td>\n",
       "      <td>0.10</td>\n",
       "      <td>None</td>\n",
       "      <td>0.03</td>\n",
       "      <td>0.01</td>\n",
       "    </tr>\n",
       "    <tr>\n",
       "      <th>RidgeClassifierCV</th>\n",
       "      <td>0.08</td>\n",
       "      <td>0.10</td>\n",
       "      <td>None</td>\n",
       "      <td>0.03</td>\n",
       "      <td>0.02</td>\n",
       "    </tr>\n",
       "    <tr>\n",
       "      <th>PassiveAggressiveClassifier</th>\n",
       "      <td>0.06</td>\n",
       "      <td>0.09</td>\n",
       "      <td>None</td>\n",
       "      <td>0.02</td>\n",
       "      <td>0.05</td>\n",
       "    </tr>\n",
       "    <tr>\n",
       "      <th>DummyClassifier</th>\n",
       "      <td>0.02</td>\n",
       "      <td>0.03</td>\n",
       "      <td>None</td>\n",
       "      <td>0.02</td>\n",
       "      <td>0.01</td>\n",
       "    </tr>\n",
       "  </tbody>\n",
       "</table>\n",
       "</div>"
      ],
      "text/plain": [
       "                             Accuracy  Balanced Accuracy ROC AUC  F1 Score  \\\n",
       "Model                                                                        \n",
       "LinearDiscriminantAnalysis       1.00               1.00    None      1.00   \n",
       "ExtraTreesClassifier             1.00               1.00    None      1.00   \n",
       "RandomForestClassifier           1.00               1.00    None      1.00   \n",
       "BaggingClassifier                1.00               1.00    None      1.00   \n",
       "LGBMClassifier                   1.00               1.00    None      1.00   \n",
       "DecisionTreeClassifier           1.00               1.00    None      1.00   \n",
       "GaussianNB                       1.00               0.99    None      1.00   \n",
       "XGBClassifier                    0.96               0.96    None      0.96   \n",
       "NearestCentroid                  0.95               0.96    None      0.94   \n",
       "LabelPropagation                 0.91               0.95    None      0.91   \n",
       "LabelSpreading                   0.90               0.95    None      0.89   \n",
       "KNeighborsClassifier             0.94               0.94    None      0.94   \n",
       "ExtraTreeClassifier              0.92               0.93    None      0.92   \n",
       "SVC                              0.33               0.42    None      0.25   \n",
       "LogisticRegression               0.33               0.41    None      0.25   \n",
       "LinearSVC                        0.27               0.34    None      0.18   \n",
       "AdaBoostClassifier               0.20               0.24    None      0.13   \n",
       "SGDClassifier                    0.17               0.20    None      0.13   \n",
       "CalibratedClassifierCV           0.15               0.19    None      0.08   \n",
       "BernoulliNB                      0.10               0.15    None      0.04   \n",
       "Perceptron                       0.12               0.13    None      0.07   \n",
       "RidgeClassifier                  0.08               0.10    None      0.03   \n",
       "RidgeClassifierCV                0.08               0.10    None      0.03   \n",
       "PassiveAggressiveClassifier      0.06               0.09    None      0.02   \n",
       "DummyClassifier                  0.02               0.03    None      0.02   \n",
       "\n",
       "                             Time Taken  \n",
       "Model                                    \n",
       "LinearDiscriminantAnalysis         0.01  \n",
       "ExtraTreesClassifier               0.13  \n",
       "RandomForestClassifier             0.19  \n",
       "BaggingClassifier                  0.04  \n",
       "LGBMClassifier                    14.03  \n",
       "DecisionTreeClassifier             0.01  \n",
       "GaussianNB                         0.02  \n",
       "XGBClassifier                      1.97  \n",
       "NearestCentroid                    0.01  \n",
       "LabelPropagation                   0.02  \n",
       "LabelSpreading                     0.05  \n",
       "KNeighborsClassifier               0.01  \n",
       "ExtraTreeClassifier                0.01  \n",
       "SVC                                0.06  \n",
       "LogisticRegression                 0.11  \n",
       "LinearSVC                          0.21  \n",
       "AdaBoostClassifier                 0.14  \n",
       "SGDClassifier                      0.07  \n",
       "CalibratedClassifierCV             1.30  \n",
       "BernoulliNB                        0.01  \n",
       "Perceptron                         0.04  \n",
       "RidgeClassifier                    0.01  \n",
       "RidgeClassifierCV                  0.02  \n",
       "PassiveAggressiveClassifier        0.05  \n",
       "DummyClassifier                    0.01  "
      ]
     },
     "execution_count": 51,
     "metadata": {},
     "output_type": "execute_result"
    }
   ],
   "source": [
    "clf = LazyClassifier(verbose=0,ignore_warnings=True)\n",
    "models, predictions = clf.fit(X_train, X_test, y_train, y_test)\n",
    "models"
   ]
  },
  {
   "cell_type": "code",
   "execution_count": 59,
   "id": "a4108e53",
   "metadata": {},
   "outputs": [
    {
     "name": "stdout",
     "output_type": "stream",
     "text": [
      "\n"
     ]
    },
    {
     "data": {
      "image/png": "[encoded data removed]",
      "text/plain": [
       "<Figure size 432x288 with 1 Axes>"
      ]
     },
     "metadata": {
      "needs_background": "light"
     },
     "output_type": "display_data"
    }
   ],
   "source": [
    "clf = tree.DecisionTreeClassifier(max_depth=2)\n",
    "clf = clf.fit(X, y)\n",
    "tree.plot_tree(clf) \n",
    "\n",
    "print()"
   ]
  },
  {
   "cell_type": "code",
   "execution_count": 92,
   "id": "377bc467",
   "metadata": {},
   "outputs": [
    {
     "name": "stdout",
     "output_type": "stream",
     "text": [
      "True output: [3903]\n",
      "Predicted output: [3903.35606419]\n",
      "Prediction Error: [0.35606419]\n"
     ]
    }
   ],
   "source": [
    "predictions = model.predict(X)\n",
    "print(f\"True output: {y[0]}\")\n",
    "print(f\"Predicted output: {predictions[0]}\")\n",
    "print(f\"Prediction Error: {predictions[0]-y[0]}\")"
   ]
  },
  {
   "cell_type": "code",
   "execution_count": null,
   "id": "6aa26b38",
   "metadata": {},
   "outputs": [],
   "source": []
  },
  {
   "cell_type": "code",
   "execution_count": null,
   "id": "a4764240",
   "metadata": {},
   "outputs": [],
   "source": []
  }
 ],
 "metadata": {
  "kernelspec": {
   "display_name": "Python 3 (ipykernel)",
   "language": "python",
   "name": "python3"
  },
  "language_info": {
   "codemirror_mode": {
    "name": "ipython",
    "version": 3
   },
   "file_extension": ".py",
   "mimetype": "text/x-python",
   "name": "python",
   "nbconvert_exporter": "python",
   "pygments_lexer": "ipython3",
   "version": "3.8.11"
  }
 },
 "nbformat": 4,
 "nbformat_minor": 5
}
